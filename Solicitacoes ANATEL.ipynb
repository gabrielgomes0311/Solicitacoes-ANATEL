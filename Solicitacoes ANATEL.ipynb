{
 "cells": [
  {
   "cell_type": "code",
   "execution_count": 1,
   "metadata": {},
   "outputs": [],
   "source": [
    "#Importar glob para buscar os nomes dos arquivos\n",
    "import pandas as pd\n",
    "from glob import glob"
   ]
  },
  {
   "cell_type": "code",
   "execution_count": 2,
   "metadata": {},
   "outputs": [
    {
     "data": {
      "text/plain": [
       "['Dados/ANATEL/Solicitacoes\\\\Solicitações Registradas na Anatel (2006-AC).csv',\n",
       " 'Dados/ANATEL/Solicitacoes\\\\Solicitações Registradas na Anatel (2006-AL).csv',\n",
       " 'Dados/ANATEL/Solicitacoes\\\\Solicitações Registradas na Anatel (2006-AM).csv',\n",
       " 'Dados/ANATEL/Solicitacoes\\\\Solicitações Registradas na Anatel (2006-AP).csv',\n",
       " 'Dados/ANATEL/Solicitacoes\\\\Solicitações Registradas na Anatel (2006-BA).csv',\n",
       " 'Dados/ANATEL/Solicitacoes\\\\Solicitações Registradas na Anatel (2006-CE).csv',\n",
       " 'Dados/ANATEL/Solicitacoes\\\\Solicitações Registradas na Anatel (2006-DF).csv',\n",
       " 'Dados/ANATEL/Solicitacoes\\\\Solicitações Registradas na Anatel (2006-ES).csv',\n",
       " 'Dados/ANATEL/Solicitacoes\\\\Solicitações Registradas na Anatel (2006-GO).csv',\n",
       " 'Dados/ANATEL/Solicitacoes\\\\Solicitações Registradas na Anatel (2006-MA).csv',\n",
       " 'Dados/ANATEL/Solicitacoes\\\\Solicitações Registradas na Anatel (2006-MG).csv',\n",
       " 'Dados/ANATEL/Solicitacoes\\\\Solicitações Registradas na Anatel (2006-MS).csv',\n",
       " 'Dados/ANATEL/Solicitacoes\\\\Solicitações Registradas na Anatel (2006-MT).csv',\n",
       " 'Dados/ANATEL/Solicitacoes\\\\Solicitações Registradas na Anatel (2006-ND).csv',\n",
       " 'Dados/ANATEL/Solicitacoes\\\\Solicitações Registradas na Anatel (2006-PA).csv',\n",
       " 'Dados/ANATEL/Solicitacoes\\\\Solicitações Registradas na Anatel (2006-PB).csv',\n",
       " 'Dados/ANATEL/Solicitacoes\\\\Solicitações Registradas na Anatel (2006-PE).csv',\n",
       " 'Dados/ANATEL/Solicitacoes\\\\Solicitações Registradas na Anatel (2006-PI).csv',\n",
       " 'Dados/ANATEL/Solicitacoes\\\\Solicitações Registradas na Anatel (2006-PR).csv',\n",
       " 'Dados/ANATEL/Solicitacoes\\\\Solicitações Registradas na Anatel (2006-RJ).csv',\n",
       " 'Dados/ANATEL/Solicitacoes\\\\Solicitações Registradas na Anatel (2006-RN).csv',\n",
       " 'Dados/ANATEL/Solicitacoes\\\\Solicitações Registradas na Anatel (2006-RO).csv',\n",
       " 'Dados/ANATEL/Solicitacoes\\\\Solicitações Registradas na Anatel (2006-RR).csv',\n",
       " 'Dados/ANATEL/Solicitacoes\\\\Solicitações Registradas na Anatel (2006-RS).csv',\n",
       " 'Dados/ANATEL/Solicitacoes\\\\Solicitações Registradas na Anatel (2006-SC).csv',\n",
       " 'Dados/ANATEL/Solicitacoes\\\\Solicitações Registradas na Anatel (2006-SE).csv',\n",
       " 'Dados/ANATEL/Solicitacoes\\\\Solicitações Registradas na Anatel (2006-SP).csv',\n",
       " 'Dados/ANATEL/Solicitacoes\\\\Solicitações Registradas na Anatel (2006-TO).csv',\n",
       " 'Dados/ANATEL/Solicitacoes\\\\Solicitações Registradas na Anatel (2007-AC).csv',\n",
       " 'Dados/ANATEL/Solicitacoes\\\\Solicitações Registradas na Anatel (2007-AL).csv',\n",
       " 'Dados/ANATEL/Solicitacoes\\\\Solicitações Registradas na Anatel (2007-AM).csv',\n",
       " 'Dados/ANATEL/Solicitacoes\\\\Solicitações Registradas na Anatel (2007-AP).csv',\n",
       " 'Dados/ANATEL/Solicitacoes\\\\Solicitações Registradas na Anatel (2007-BA).csv',\n",
       " 'Dados/ANATEL/Solicitacoes\\\\Solicitações Registradas na Anatel (2007-CE).csv',\n",
       " 'Dados/ANATEL/Solicitacoes\\\\Solicitações Registradas na Anatel (2007-DF).csv',\n",
       " 'Dados/ANATEL/Solicitacoes\\\\Solicitações Registradas na Anatel (2007-ES).csv',\n",
       " 'Dados/ANATEL/Solicitacoes\\\\Solicitações Registradas na Anatel (2007-GO).csv',\n",
       " 'Dados/ANATEL/Solicitacoes\\\\Solicitações Registradas na Anatel (2007-MA).csv',\n",
       " 'Dados/ANATEL/Solicitacoes\\\\Solicitações Registradas na Anatel (2007-MG).csv',\n",
       " 'Dados/ANATEL/Solicitacoes\\\\Solicitações Registradas na Anatel (2007-MS).csv',\n",
       " 'Dados/ANATEL/Solicitacoes\\\\Solicitações Registradas na Anatel (2007-MT).csv',\n",
       " 'Dados/ANATEL/Solicitacoes\\\\Solicitações Registradas na Anatel (2007-ND).csv',\n",
       " 'Dados/ANATEL/Solicitacoes\\\\Solicitações Registradas na Anatel (2007-PA).csv',\n",
       " 'Dados/ANATEL/Solicitacoes\\\\Solicitações Registradas na Anatel (2007-PB).csv',\n",
       " 'Dados/ANATEL/Solicitacoes\\\\Solicitações Registradas na Anatel (2007-PE).csv',\n",
       " 'Dados/ANATEL/Solicitacoes\\\\Solicitações Registradas na Anatel (2007-PI).csv',\n",
       " 'Dados/ANATEL/Solicitacoes\\\\Solicitações Registradas na Anatel (2007-PR).csv',\n",
       " 'Dados/ANATEL/Solicitacoes\\\\Solicitações Registradas na Anatel (2007-RJ).csv',\n",
       " 'Dados/ANATEL/Solicitacoes\\\\Solicitações Registradas na Anatel (2007-RN).csv',\n",
       " 'Dados/ANATEL/Solicitacoes\\\\Solicitações Registradas na Anatel (2007-RO).csv',\n",
       " 'Dados/ANATEL/Solicitacoes\\\\Solicitações Registradas na Anatel (2007-RR).csv',\n",
       " 'Dados/ANATEL/Solicitacoes\\\\Solicitações Registradas na Anatel (2007-RS).csv',\n",
       " 'Dados/ANATEL/Solicitacoes\\\\Solicitações Registradas na Anatel (2007-SC).csv',\n",
       " 'Dados/ANATEL/Solicitacoes\\\\Solicitações Registradas na Anatel (2007-SE).csv',\n",
       " 'Dados/ANATEL/Solicitacoes\\\\Solicitações Registradas na Anatel (2007-SP).csv',\n",
       " 'Dados/ANATEL/Solicitacoes\\\\Solicitações Registradas na Anatel (2007-TO).csv',\n",
       " 'Dados/ANATEL/Solicitacoes\\\\Solicitações Registradas na Anatel (2008-AC).csv',\n",
       " 'Dados/ANATEL/Solicitacoes\\\\Solicitações Registradas na Anatel (2008-AL).csv',\n",
       " 'Dados/ANATEL/Solicitacoes\\\\Solicitações Registradas na Anatel (2008-AM).csv',\n",
       " 'Dados/ANATEL/Solicitacoes\\\\Solicitações Registradas na Anatel (2008-AP).csv',\n",
       " 'Dados/ANATEL/Solicitacoes\\\\Solicitações Registradas na Anatel (2008-BA).csv',\n",
       " 'Dados/ANATEL/Solicitacoes\\\\Solicitações Registradas na Anatel (2008-CE).csv',\n",
       " 'Dados/ANATEL/Solicitacoes\\\\Solicitações Registradas na Anatel (2008-DF).csv',\n",
       " 'Dados/ANATEL/Solicitacoes\\\\Solicitações Registradas na Anatel (2008-ES).csv',\n",
       " 'Dados/ANATEL/Solicitacoes\\\\Solicitações Registradas na Anatel (2008-GO).csv',\n",
       " 'Dados/ANATEL/Solicitacoes\\\\Solicitações Registradas na Anatel (2008-MA).csv',\n",
       " 'Dados/ANATEL/Solicitacoes\\\\Solicitações Registradas na Anatel (2008-MG).csv',\n",
       " 'Dados/ANATEL/Solicitacoes\\\\Solicitações Registradas na Anatel (2008-MS).csv',\n",
       " 'Dados/ANATEL/Solicitacoes\\\\Solicitações Registradas na Anatel (2008-MT).csv',\n",
       " 'Dados/ANATEL/Solicitacoes\\\\Solicitações Registradas na Anatel (2008-ND).csv',\n",
       " 'Dados/ANATEL/Solicitacoes\\\\Solicitações Registradas na Anatel (2008-PA).csv',\n",
       " 'Dados/ANATEL/Solicitacoes\\\\Solicitações Registradas na Anatel (2008-PB).csv',\n",
       " 'Dados/ANATEL/Solicitacoes\\\\Solicitações Registradas na Anatel (2008-PE).csv',\n",
       " 'Dados/ANATEL/Solicitacoes\\\\Solicitações Registradas na Anatel (2008-PI).csv',\n",
       " 'Dados/ANATEL/Solicitacoes\\\\Solicitações Registradas na Anatel (2008-PR).csv',\n",
       " 'Dados/ANATEL/Solicitacoes\\\\Solicitações Registradas na Anatel (2008-RJ).csv',\n",
       " 'Dados/ANATEL/Solicitacoes\\\\Solicitações Registradas na Anatel (2008-RN).csv',\n",
       " 'Dados/ANATEL/Solicitacoes\\\\Solicitações Registradas na Anatel (2008-RO).csv',\n",
       " 'Dados/ANATEL/Solicitacoes\\\\Solicitações Registradas na Anatel (2008-RR).csv',\n",
       " 'Dados/ANATEL/Solicitacoes\\\\Solicitações Registradas na Anatel (2008-RS).csv',\n",
       " 'Dados/ANATEL/Solicitacoes\\\\Solicitações Registradas na Anatel (2008-SC).csv',\n",
       " 'Dados/ANATEL/Solicitacoes\\\\Solicitações Registradas na Anatel (2008-SE).csv',\n",
       " 'Dados/ANATEL/Solicitacoes\\\\Solicitações Registradas na Anatel (2008-SP).csv',\n",
       " 'Dados/ANATEL/Solicitacoes\\\\Solicitações Registradas na Anatel (2008-TO).csv',\n",
       " 'Dados/ANATEL/Solicitacoes\\\\Solicitações Registradas na Anatel (2009-AC).csv',\n",
       " 'Dados/ANATEL/Solicitacoes\\\\Solicitações Registradas na Anatel (2009-AL).csv',\n",
       " 'Dados/ANATEL/Solicitacoes\\\\Solicitações Registradas na Anatel (2009-AM).csv',\n",
       " 'Dados/ANATEL/Solicitacoes\\\\Solicitações Registradas na Anatel (2009-AP).csv',\n",
       " 'Dados/ANATEL/Solicitacoes\\\\Solicitações Registradas na Anatel (2009-BA).csv',\n",
       " 'Dados/ANATEL/Solicitacoes\\\\Solicitações Registradas na Anatel (2009-CE).csv',\n",
       " 'Dados/ANATEL/Solicitacoes\\\\Solicitações Registradas na Anatel (2009-DF).csv',\n",
       " 'Dados/ANATEL/Solicitacoes\\\\Solicitações Registradas na Anatel (2009-ES).csv',\n",
       " 'Dados/ANATEL/Solicitacoes\\\\Solicitações Registradas na Anatel (2009-GO).csv',\n",
       " 'Dados/ANATEL/Solicitacoes\\\\Solicitações Registradas na Anatel (2009-MA).csv',\n",
       " 'Dados/ANATEL/Solicitacoes\\\\Solicitações Registradas na Anatel (2009-MG).csv',\n",
       " 'Dados/ANATEL/Solicitacoes\\\\Solicitações Registradas na Anatel (2009-MS).csv',\n",
       " 'Dados/ANATEL/Solicitacoes\\\\Solicitações Registradas na Anatel (2009-MT).csv',\n",
       " 'Dados/ANATEL/Solicitacoes\\\\Solicitações Registradas na Anatel (2009-ND).csv',\n",
       " 'Dados/ANATEL/Solicitacoes\\\\Solicitações Registradas na Anatel (2009-PA).csv',\n",
       " 'Dados/ANATEL/Solicitacoes\\\\Solicitações Registradas na Anatel (2009-PB).csv',\n",
       " 'Dados/ANATEL/Solicitacoes\\\\Solicitações Registradas na Anatel (2009-PE).csv',\n",
       " 'Dados/ANATEL/Solicitacoes\\\\Solicitações Registradas na Anatel (2009-PI).csv',\n",
       " 'Dados/ANATEL/Solicitacoes\\\\Solicitações Registradas na Anatel (2009-PR).csv',\n",
       " 'Dados/ANATEL/Solicitacoes\\\\Solicitações Registradas na Anatel (2009-RJ).csv',\n",
       " 'Dados/ANATEL/Solicitacoes\\\\Solicitações Registradas na Anatel (2009-RN).csv',\n",
       " 'Dados/ANATEL/Solicitacoes\\\\Solicitações Registradas na Anatel (2009-RO).csv',\n",
       " 'Dados/ANATEL/Solicitacoes\\\\Solicitações Registradas na Anatel (2009-RR).csv',\n",
       " 'Dados/ANATEL/Solicitacoes\\\\Solicitações Registradas na Anatel (2009-RS).csv',\n",
       " 'Dados/ANATEL/Solicitacoes\\\\Solicitações Registradas na Anatel (2009-SC).csv',\n",
       " 'Dados/ANATEL/Solicitacoes\\\\Solicitações Registradas na Anatel (2009-SE).csv',\n",
       " 'Dados/ANATEL/Solicitacoes\\\\Solicitações Registradas na Anatel (2009-SP).csv',\n",
       " 'Dados/ANATEL/Solicitacoes\\\\Solicitações Registradas na Anatel (2009-TO).csv',\n",
       " 'Dados/ANATEL/Solicitacoes\\\\Solicitações Registradas na Anatel (2010-AC).csv',\n",
       " 'Dados/ANATEL/Solicitacoes\\\\Solicitações Registradas na Anatel (2010-AL).csv',\n",
       " 'Dados/ANATEL/Solicitacoes\\\\Solicitações Registradas na Anatel (2010-AM).csv',\n",
       " 'Dados/ANATEL/Solicitacoes\\\\Solicitações Registradas na Anatel (2010-AP).csv',\n",
       " 'Dados/ANATEL/Solicitacoes\\\\Solicitações Registradas na Anatel (2010-BA).csv',\n",
       " 'Dados/ANATEL/Solicitacoes\\\\Solicitações Registradas na Anatel (2010-CE).csv',\n",
       " 'Dados/ANATEL/Solicitacoes\\\\Solicitações Registradas na Anatel (2010-DF).csv',\n",
       " 'Dados/ANATEL/Solicitacoes\\\\Solicitações Registradas na Anatel (2010-ES).csv',\n",
       " 'Dados/ANATEL/Solicitacoes\\\\Solicitações Registradas na Anatel (2010-GO).csv',\n",
       " 'Dados/ANATEL/Solicitacoes\\\\Solicitações Registradas na Anatel (2010-MA).csv',\n",
       " 'Dados/ANATEL/Solicitacoes\\\\Solicitações Registradas na Anatel (2010-MG).csv',\n",
       " 'Dados/ANATEL/Solicitacoes\\\\Solicitações Registradas na Anatel (2010-MS).csv',\n",
       " 'Dados/ANATEL/Solicitacoes\\\\Solicitações Registradas na Anatel (2010-MT).csv',\n",
       " 'Dados/ANATEL/Solicitacoes\\\\Solicitações Registradas na Anatel (2010-ND).csv',\n",
       " 'Dados/ANATEL/Solicitacoes\\\\Solicitações Registradas na Anatel (2010-PA).csv',\n",
       " 'Dados/ANATEL/Solicitacoes\\\\Solicitações Registradas na Anatel (2010-PB).csv',\n",
       " 'Dados/ANATEL/Solicitacoes\\\\Solicitações Registradas na Anatel (2010-PE).csv',\n",
       " 'Dados/ANATEL/Solicitacoes\\\\Solicitações Registradas na Anatel (2010-PI).csv',\n",
       " 'Dados/ANATEL/Solicitacoes\\\\Solicitações Registradas na Anatel (2010-PR).csv',\n",
       " 'Dados/ANATEL/Solicitacoes\\\\Solicitações Registradas na Anatel (2010-RJ).csv',\n",
       " 'Dados/ANATEL/Solicitacoes\\\\Solicitações Registradas na Anatel (2010-RN).csv',\n",
       " 'Dados/ANATEL/Solicitacoes\\\\Solicitações Registradas na Anatel (2010-RO).csv',\n",
       " 'Dados/ANATEL/Solicitacoes\\\\Solicitações Registradas na Anatel (2010-RR).csv',\n",
       " 'Dados/ANATEL/Solicitacoes\\\\Solicitações Registradas na Anatel (2010-RS).csv',\n",
       " 'Dados/ANATEL/Solicitacoes\\\\Solicitações Registradas na Anatel (2010-SC).csv',\n",
       " 'Dados/ANATEL/Solicitacoes\\\\Solicitações Registradas na Anatel (2010-SE).csv',\n",
       " 'Dados/ANATEL/Solicitacoes\\\\Solicitações Registradas na Anatel (2010-SP).csv',\n",
       " 'Dados/ANATEL/Solicitacoes\\\\Solicitações Registradas na Anatel (2010-TO).csv',\n",
       " 'Dados/ANATEL/Solicitacoes\\\\Solicitações Registradas na Anatel (2011-AC).csv',\n",
       " 'Dados/ANATEL/Solicitacoes\\\\Solicitações Registradas na Anatel (2011-AL).csv',\n",
       " 'Dados/ANATEL/Solicitacoes\\\\Solicitações Registradas na Anatel (2011-AM).csv',\n",
       " 'Dados/ANATEL/Solicitacoes\\\\Solicitações Registradas na Anatel (2011-AP).csv',\n",
       " 'Dados/ANATEL/Solicitacoes\\\\Solicitações Registradas na Anatel (2011-BA).csv',\n",
       " 'Dados/ANATEL/Solicitacoes\\\\Solicitações Registradas na Anatel (2011-CE).csv',\n",
       " 'Dados/ANATEL/Solicitacoes\\\\Solicitações Registradas na Anatel (2011-DF).csv',\n",
       " 'Dados/ANATEL/Solicitacoes\\\\Solicitações Registradas na Anatel (2011-ES).csv',\n",
       " 'Dados/ANATEL/Solicitacoes\\\\Solicitações Registradas na Anatel (2011-GO).csv',\n",
       " 'Dados/ANATEL/Solicitacoes\\\\Solicitações Registradas na Anatel (2011-MA).csv',\n",
       " 'Dados/ANATEL/Solicitacoes\\\\Solicitações Registradas na Anatel (2011-MG).csv',\n",
       " 'Dados/ANATEL/Solicitacoes\\\\Solicitações Registradas na Anatel (2011-MS).csv',\n",
       " 'Dados/ANATEL/Solicitacoes\\\\Solicitações Registradas na Anatel (2011-MT).csv',\n",
       " 'Dados/ANATEL/Solicitacoes\\\\Solicitações Registradas na Anatel (2011-ND).csv',\n",
       " 'Dados/ANATEL/Solicitacoes\\\\Solicitações Registradas na Anatel (2011-PA).csv',\n",
       " 'Dados/ANATEL/Solicitacoes\\\\Solicitações Registradas na Anatel (2011-PB).csv',\n",
       " 'Dados/ANATEL/Solicitacoes\\\\Solicitações Registradas na Anatel (2011-PE).csv',\n",
       " 'Dados/ANATEL/Solicitacoes\\\\Solicitações Registradas na Anatel (2011-PI).csv',\n",
       " 'Dados/ANATEL/Solicitacoes\\\\Solicitações Registradas na Anatel (2011-PR).csv',\n",
       " 'Dados/ANATEL/Solicitacoes\\\\Solicitações Registradas na Anatel (2011-RJ).csv',\n",
       " 'Dados/ANATEL/Solicitacoes\\\\Solicitações Registradas na Anatel (2011-RN).csv',\n",
       " 'Dados/ANATEL/Solicitacoes\\\\Solicitações Registradas na Anatel (2011-RO).csv',\n",
       " 'Dados/ANATEL/Solicitacoes\\\\Solicitações Registradas na Anatel (2011-RR).csv',\n",
       " 'Dados/ANATEL/Solicitacoes\\\\Solicitações Registradas na Anatel (2011-RS).csv',\n",
       " 'Dados/ANATEL/Solicitacoes\\\\Solicitações Registradas na Anatel (2011-SC).csv',\n",
       " 'Dados/ANATEL/Solicitacoes\\\\Solicitações Registradas na Anatel (2011-SE).csv',\n",
       " 'Dados/ANATEL/Solicitacoes\\\\Solicitações Registradas na Anatel (2011-SP).csv',\n",
       " 'Dados/ANATEL/Solicitacoes\\\\Solicitações Registradas na Anatel (2011-TO).csv',\n",
       " 'Dados/ANATEL/Solicitacoes\\\\Solicitações Registradas na Anatel (2012-AC).csv',\n",
       " 'Dados/ANATEL/Solicitacoes\\\\Solicitações Registradas na Anatel (2012-AL).csv',\n",
       " 'Dados/ANATEL/Solicitacoes\\\\Solicitações Registradas na Anatel (2012-AM).csv',\n",
       " 'Dados/ANATEL/Solicitacoes\\\\Solicitações Registradas na Anatel (2012-AP).csv',\n",
       " 'Dados/ANATEL/Solicitacoes\\\\Solicitações Registradas na Anatel (2012-BA).csv',\n",
       " 'Dados/ANATEL/Solicitacoes\\\\Solicitações Registradas na Anatel (2012-CE).csv',\n",
       " 'Dados/ANATEL/Solicitacoes\\\\Solicitações Registradas na Anatel (2012-DF).csv',\n",
       " 'Dados/ANATEL/Solicitacoes\\\\Solicitações Registradas na Anatel (2012-ES).csv',\n",
       " 'Dados/ANATEL/Solicitacoes\\\\Solicitações Registradas na Anatel (2012-GO).csv',\n",
       " 'Dados/ANATEL/Solicitacoes\\\\Solicitações Registradas na Anatel (2012-MA).csv',\n",
       " 'Dados/ANATEL/Solicitacoes\\\\Solicitações Registradas na Anatel (2012-MG).csv',\n",
       " 'Dados/ANATEL/Solicitacoes\\\\Solicitações Registradas na Anatel (2012-MS).csv',\n",
       " 'Dados/ANATEL/Solicitacoes\\\\Solicitações Registradas na Anatel (2012-MT).csv',\n",
       " 'Dados/ANATEL/Solicitacoes\\\\Solicitações Registradas na Anatel (2012-ND).csv',\n",
       " 'Dados/ANATEL/Solicitacoes\\\\Solicitações Registradas na Anatel (2012-PA).csv',\n",
       " 'Dados/ANATEL/Solicitacoes\\\\Solicitações Registradas na Anatel (2012-PB).csv',\n",
       " 'Dados/ANATEL/Solicitacoes\\\\Solicitações Registradas na Anatel (2012-PE).csv',\n",
       " 'Dados/ANATEL/Solicitacoes\\\\Solicitações Registradas na Anatel (2012-PI).csv',\n",
       " 'Dados/ANATEL/Solicitacoes\\\\Solicitações Registradas na Anatel (2012-PR).csv',\n",
       " 'Dados/ANATEL/Solicitacoes\\\\Solicitações Registradas na Anatel (2012-RJ).csv',\n",
       " 'Dados/ANATEL/Solicitacoes\\\\Solicitações Registradas na Anatel (2012-RN).csv',\n",
       " 'Dados/ANATEL/Solicitacoes\\\\Solicitações Registradas na Anatel (2012-RO).csv',\n",
       " 'Dados/ANATEL/Solicitacoes\\\\Solicitações Registradas na Anatel (2012-RR).csv',\n",
       " 'Dados/ANATEL/Solicitacoes\\\\Solicitações Registradas na Anatel (2012-RS).csv',\n",
       " 'Dados/ANATEL/Solicitacoes\\\\Solicitações Registradas na Anatel (2012-SC).csv',\n",
       " 'Dados/ANATEL/Solicitacoes\\\\Solicitações Registradas na Anatel (2012-SE).csv',\n",
       " 'Dados/ANATEL/Solicitacoes\\\\Solicitações Registradas na Anatel (2012-SP).csv',\n",
       " 'Dados/ANATEL/Solicitacoes\\\\Solicitações Registradas na Anatel (2012-TO).csv',\n",
       " 'Dados/ANATEL/Solicitacoes\\\\Solicitações Registradas na Anatel (2013-AC).csv',\n",
       " 'Dados/ANATEL/Solicitacoes\\\\Solicitações Registradas na Anatel (2013-AL).csv',\n",
       " 'Dados/ANATEL/Solicitacoes\\\\Solicitações Registradas na Anatel (2013-AM).csv',\n",
       " 'Dados/ANATEL/Solicitacoes\\\\Solicitações Registradas na Anatel (2013-AP).csv',\n",
       " 'Dados/ANATEL/Solicitacoes\\\\Solicitações Registradas na Anatel (2013-BA).csv',\n",
       " 'Dados/ANATEL/Solicitacoes\\\\Solicitações Registradas na Anatel (2013-CE).csv',\n",
       " 'Dados/ANATEL/Solicitacoes\\\\Solicitações Registradas na Anatel (2013-DF).csv',\n",
       " 'Dados/ANATEL/Solicitacoes\\\\Solicitações Registradas na Anatel (2013-ES).csv',\n",
       " 'Dados/ANATEL/Solicitacoes\\\\Solicitações Registradas na Anatel (2013-GO).csv',\n",
       " 'Dados/ANATEL/Solicitacoes\\\\Solicitações Registradas na Anatel (2013-MA).csv',\n",
       " 'Dados/ANATEL/Solicitacoes\\\\Solicitações Registradas na Anatel (2013-MG).csv',\n",
       " 'Dados/ANATEL/Solicitacoes\\\\Solicitações Registradas na Anatel (2013-MS).csv',\n",
       " 'Dados/ANATEL/Solicitacoes\\\\Solicitações Registradas na Anatel (2013-MT).csv',\n",
       " 'Dados/ANATEL/Solicitacoes\\\\Solicitações Registradas na Anatel (2013-ND).csv',\n",
       " 'Dados/ANATEL/Solicitacoes\\\\Solicitações Registradas na Anatel (2013-PA).csv',\n",
       " 'Dados/ANATEL/Solicitacoes\\\\Solicitações Registradas na Anatel (2013-PB).csv',\n",
       " 'Dados/ANATEL/Solicitacoes\\\\Solicitações Registradas na Anatel (2013-PE).csv',\n",
       " 'Dados/ANATEL/Solicitacoes\\\\Solicitações Registradas na Anatel (2013-PI).csv',\n",
       " 'Dados/ANATEL/Solicitacoes\\\\Solicitações Registradas na Anatel (2013-PR).csv',\n",
       " 'Dados/ANATEL/Solicitacoes\\\\Solicitações Registradas na Anatel (2013-RJ).csv',\n",
       " 'Dados/ANATEL/Solicitacoes\\\\Solicitações Registradas na Anatel (2013-RN).csv',\n",
       " 'Dados/ANATEL/Solicitacoes\\\\Solicitações Registradas na Anatel (2013-RO).csv',\n",
       " 'Dados/ANATEL/Solicitacoes\\\\Solicitações Registradas na Anatel (2013-RR).csv',\n",
       " 'Dados/ANATEL/Solicitacoes\\\\Solicitações Registradas na Anatel (2013-RS).csv',\n",
       " 'Dados/ANATEL/Solicitacoes\\\\Solicitações Registradas na Anatel (2013-SC).csv',\n",
       " 'Dados/ANATEL/Solicitacoes\\\\Solicitações Registradas na Anatel (2013-SE).csv',\n",
       " 'Dados/ANATEL/Solicitacoes\\\\Solicitações Registradas na Anatel (2013-SP).csv',\n",
       " 'Dados/ANATEL/Solicitacoes\\\\Solicitações Registradas na Anatel (2013-TO).csv',\n",
       " 'Dados/ANATEL/Solicitacoes\\\\Solicitações Registradas na Anatel (2014-AC).csv',\n",
       " 'Dados/ANATEL/Solicitacoes\\\\Solicitações Registradas na Anatel (2014-AL).csv',\n",
       " 'Dados/ANATEL/Solicitacoes\\\\Solicitações Registradas na Anatel (2014-AM).csv',\n",
       " 'Dados/ANATEL/Solicitacoes\\\\Solicitações Registradas na Anatel (2014-AP).csv',\n",
       " 'Dados/ANATEL/Solicitacoes\\\\Solicitações Registradas na Anatel (2014-BA).csv',\n",
       " 'Dados/ANATEL/Solicitacoes\\\\Solicitações Registradas na Anatel (2014-CE).csv',\n",
       " 'Dados/ANATEL/Solicitacoes\\\\Solicitações Registradas na Anatel (2014-DF).csv',\n",
       " 'Dados/ANATEL/Solicitacoes\\\\Solicitações Registradas na Anatel (2014-ES).csv',\n",
       " 'Dados/ANATEL/Solicitacoes\\\\Solicitações Registradas na Anatel (2014-GO).csv',\n",
       " 'Dados/ANATEL/Solicitacoes\\\\Solicitações Registradas na Anatel (2014-MA).csv',\n",
       " 'Dados/ANATEL/Solicitacoes\\\\Solicitações Registradas na Anatel (2014-MG).csv',\n",
       " 'Dados/ANATEL/Solicitacoes\\\\Solicitações Registradas na Anatel (2014-MS).csv',\n",
       " 'Dados/ANATEL/Solicitacoes\\\\Solicitações Registradas na Anatel (2014-MT).csv',\n",
       " 'Dados/ANATEL/Solicitacoes\\\\Solicitações Registradas na Anatel (2014-ND).csv',\n",
       " 'Dados/ANATEL/Solicitacoes\\\\Solicitações Registradas na Anatel (2014-PA).csv',\n",
       " 'Dados/ANATEL/Solicitacoes\\\\Solicitações Registradas na Anatel (2014-PB).csv',\n",
       " 'Dados/ANATEL/Solicitacoes\\\\Solicitações Registradas na Anatel (2014-PE).csv',\n",
       " 'Dados/ANATEL/Solicitacoes\\\\Solicitações Registradas na Anatel (2014-PI).csv',\n",
       " 'Dados/ANATEL/Solicitacoes\\\\Solicitações Registradas na Anatel (2014-PR).csv',\n",
       " 'Dados/ANATEL/Solicitacoes\\\\Solicitações Registradas na Anatel (2014-RJ).csv',\n",
       " 'Dados/ANATEL/Solicitacoes\\\\Solicitações Registradas na Anatel (2014-RN).csv',\n",
       " 'Dados/ANATEL/Solicitacoes\\\\Solicitações Registradas na Anatel (2014-RO).csv',\n",
       " 'Dados/ANATEL/Solicitacoes\\\\Solicitações Registradas na Anatel (2014-RR).csv',\n",
       " 'Dados/ANATEL/Solicitacoes\\\\Solicitações Registradas na Anatel (2014-RS).csv',\n",
       " 'Dados/ANATEL/Solicitacoes\\\\Solicitações Registradas na Anatel (2014-SC).csv',\n",
       " 'Dados/ANATEL/Solicitacoes\\\\Solicitações Registradas na Anatel (2014-SE).csv',\n",
       " 'Dados/ANATEL/Solicitacoes\\\\Solicitações Registradas na Anatel (2014-SP).csv',\n",
       " 'Dados/ANATEL/Solicitacoes\\\\Solicitações Registradas na Anatel (2014-TO).csv',\n",
       " 'Dados/ANATEL/Solicitacoes\\\\Solicitações Registradas na Anatel (2015-AC).csv',\n",
       " 'Dados/ANATEL/Solicitacoes\\\\Solicitações Registradas na Anatel (2015-AL).csv',\n",
       " 'Dados/ANATEL/Solicitacoes\\\\Solicitações Registradas na Anatel (2015-AM).csv',\n",
       " 'Dados/ANATEL/Solicitacoes\\\\Solicitações Registradas na Anatel (2015-AP).csv',\n",
       " 'Dados/ANATEL/Solicitacoes\\\\Solicitações Registradas na Anatel (2015-BA).csv',\n",
       " 'Dados/ANATEL/Solicitacoes\\\\Solicitações Registradas na Anatel (2015-CE).csv',\n",
       " 'Dados/ANATEL/Solicitacoes\\\\Solicitações Registradas na Anatel (2015-DF).csv',\n",
       " 'Dados/ANATEL/Solicitacoes\\\\Solicitações Registradas na Anatel (2015-ES).csv',\n",
       " 'Dados/ANATEL/Solicitacoes\\\\Solicitações Registradas na Anatel (2015-GO).csv',\n",
       " 'Dados/ANATEL/Solicitacoes\\\\Solicitações Registradas na Anatel (2015-MA).csv',\n",
       " 'Dados/ANATEL/Solicitacoes\\\\Solicitações Registradas na Anatel (2015-MG).csv',\n",
       " 'Dados/ANATEL/Solicitacoes\\\\Solicitações Registradas na Anatel (2015-MS).csv',\n",
       " 'Dados/ANATEL/Solicitacoes\\\\Solicitações Registradas na Anatel (2015-MT).csv',\n",
       " 'Dados/ANATEL/Solicitacoes\\\\Solicitações Registradas na Anatel (2015-ND).csv',\n",
       " 'Dados/ANATEL/Solicitacoes\\\\Solicitações Registradas na Anatel (2015-PA).csv',\n",
       " 'Dados/ANATEL/Solicitacoes\\\\Solicitações Registradas na Anatel (2015-PB).csv',\n",
       " 'Dados/ANATEL/Solicitacoes\\\\Solicitações Registradas na Anatel (2015-PE).csv',\n",
       " 'Dados/ANATEL/Solicitacoes\\\\Solicitações Registradas na Anatel (2015-PI).csv',\n",
       " 'Dados/ANATEL/Solicitacoes\\\\Solicitações Registradas na Anatel (2015-PR).csv',\n",
       " 'Dados/ANATEL/Solicitacoes\\\\Solicitações Registradas na Anatel (2015-RJ).csv',\n",
       " 'Dados/ANATEL/Solicitacoes\\\\Solicitações Registradas na Anatel (2015-RN).csv',\n",
       " 'Dados/ANATEL/Solicitacoes\\\\Solicitações Registradas na Anatel (2015-RO).csv',\n",
       " 'Dados/ANATEL/Solicitacoes\\\\Solicitações Registradas na Anatel (2015-RR).csv',\n",
       " 'Dados/ANATEL/Solicitacoes\\\\Solicitações Registradas na Anatel (2015-RS).csv',\n",
       " 'Dados/ANATEL/Solicitacoes\\\\Solicitações Registradas na Anatel (2015-SC).csv',\n",
       " 'Dados/ANATEL/Solicitacoes\\\\Solicitações Registradas na Anatel (2015-SE).csv',\n",
       " 'Dados/ANATEL/Solicitacoes\\\\Solicitações Registradas na Anatel (2015-SP).csv',\n",
       " 'Dados/ANATEL/Solicitacoes\\\\Solicitações Registradas na Anatel (2015-TO).csv',\n",
       " 'Dados/ANATEL/Solicitacoes\\\\Solicitações Registradas na Anatel (2016-AC).csv',\n",
       " 'Dados/ANATEL/Solicitacoes\\\\Solicitações Registradas na Anatel (2016-AL).csv',\n",
       " 'Dados/ANATEL/Solicitacoes\\\\Solicitações Registradas na Anatel (2016-AM).csv',\n",
       " 'Dados/ANATEL/Solicitacoes\\\\Solicitações Registradas na Anatel (2016-AP).csv',\n",
       " 'Dados/ANATEL/Solicitacoes\\\\Solicitações Registradas na Anatel (2016-BA).csv',\n",
       " 'Dados/ANATEL/Solicitacoes\\\\Solicitações Registradas na Anatel (2016-CE).csv',\n",
       " 'Dados/ANATEL/Solicitacoes\\\\Solicitações Registradas na Anatel (2016-DF).csv',\n",
       " 'Dados/ANATEL/Solicitacoes\\\\Solicitações Registradas na Anatel (2016-ES).csv',\n",
       " 'Dados/ANATEL/Solicitacoes\\\\Solicitações Registradas na Anatel (2016-GO).csv',\n",
       " 'Dados/ANATEL/Solicitacoes\\\\Solicitações Registradas na Anatel (2016-MA).csv',\n",
       " 'Dados/ANATEL/Solicitacoes\\\\Solicitações Registradas na Anatel (2016-MG).csv',\n",
       " 'Dados/ANATEL/Solicitacoes\\\\Solicitações Registradas na Anatel (2016-MS).csv',\n",
       " 'Dados/ANATEL/Solicitacoes\\\\Solicitações Registradas na Anatel (2016-MT).csv',\n",
       " 'Dados/ANATEL/Solicitacoes\\\\Solicitações Registradas na Anatel (2016-ND).csv',\n",
       " 'Dados/ANATEL/Solicitacoes\\\\Solicitações Registradas na Anatel (2016-PA).csv',\n",
       " 'Dados/ANATEL/Solicitacoes\\\\Solicitações Registradas na Anatel (2016-PB).csv',\n",
       " 'Dados/ANATEL/Solicitacoes\\\\Solicitações Registradas na Anatel (2016-PE).csv',\n",
       " 'Dados/ANATEL/Solicitacoes\\\\Solicitações Registradas na Anatel (2016-PI).csv',\n",
       " 'Dados/ANATEL/Solicitacoes\\\\Solicitações Registradas na Anatel (2016-PR).csv',\n",
       " 'Dados/ANATEL/Solicitacoes\\\\Solicitações Registradas na Anatel (2016-RJ).csv',\n",
       " 'Dados/ANATEL/Solicitacoes\\\\Solicitações Registradas na Anatel (2016-RN).csv',\n",
       " 'Dados/ANATEL/Solicitacoes\\\\Solicitações Registradas na Anatel (2016-RO).csv',\n",
       " 'Dados/ANATEL/Solicitacoes\\\\Solicitações Registradas na Anatel (2016-RR).csv',\n",
       " 'Dados/ANATEL/Solicitacoes\\\\Solicitações Registradas na Anatel (2016-RS).csv',\n",
       " 'Dados/ANATEL/Solicitacoes\\\\Solicitações Registradas na Anatel (2016-SC).csv',\n",
       " 'Dados/ANATEL/Solicitacoes\\\\Solicitações Registradas na Anatel (2016-SE).csv',\n",
       " 'Dados/ANATEL/Solicitacoes\\\\Solicitações Registradas na Anatel (2016-SP).csv',\n",
       " 'Dados/ANATEL/Solicitacoes\\\\Solicitações Registradas na Anatel (2016-TO).csv',\n",
       " 'Dados/ANATEL/Solicitacoes\\\\Solicitações Registradas na Anatel (2017-AC).csv',\n",
       " 'Dados/ANATEL/Solicitacoes\\\\Solicitações Registradas na Anatel (2017-AL).csv',\n",
       " 'Dados/ANATEL/Solicitacoes\\\\Solicitações Registradas na Anatel (2017-AM).csv',\n",
       " 'Dados/ANATEL/Solicitacoes\\\\Solicitações Registradas na Anatel (2017-AP).csv',\n",
       " 'Dados/ANATEL/Solicitacoes\\\\Solicitações Registradas na Anatel (2017-BA).csv',\n",
       " 'Dados/ANATEL/Solicitacoes\\\\Solicitações Registradas na Anatel (2017-CE).csv',\n",
       " 'Dados/ANATEL/Solicitacoes\\\\Solicitações Registradas na Anatel (2017-DF).csv',\n",
       " 'Dados/ANATEL/Solicitacoes\\\\Solicitações Registradas na Anatel (2017-ES).csv',\n",
       " 'Dados/ANATEL/Solicitacoes\\\\Solicitações Registradas na Anatel (2017-GO).csv',\n",
       " 'Dados/ANATEL/Solicitacoes\\\\Solicitações Registradas na Anatel (2017-MA).csv',\n",
       " 'Dados/ANATEL/Solicitacoes\\\\Solicitações Registradas na Anatel (2017-MG).csv',\n",
       " 'Dados/ANATEL/Solicitacoes\\\\Solicitações Registradas na Anatel (2017-MS).csv',\n",
       " 'Dados/ANATEL/Solicitacoes\\\\Solicitações Registradas na Anatel (2017-MT).csv',\n",
       " 'Dados/ANATEL/Solicitacoes\\\\Solicitações Registradas na Anatel (2017-ND).csv',\n",
       " 'Dados/ANATEL/Solicitacoes\\\\Solicitações Registradas na Anatel (2017-PA).csv',\n",
       " 'Dados/ANATEL/Solicitacoes\\\\Solicitações Registradas na Anatel (2017-PB).csv',\n",
       " 'Dados/ANATEL/Solicitacoes\\\\Solicitações Registradas na Anatel (2017-PE).csv',\n",
       " 'Dados/ANATEL/Solicitacoes\\\\Solicitações Registradas na Anatel (2017-PI).csv',\n",
       " 'Dados/ANATEL/Solicitacoes\\\\Solicitações Registradas na Anatel (2017-PR).csv',\n",
       " 'Dados/ANATEL/Solicitacoes\\\\Solicitações Registradas na Anatel (2017-RJ).csv',\n",
       " 'Dados/ANATEL/Solicitacoes\\\\Solicitações Registradas na Anatel (2017-RN).csv',\n",
       " 'Dados/ANATEL/Solicitacoes\\\\Solicitações Registradas na Anatel (2017-RO).csv',\n",
       " 'Dados/ANATEL/Solicitacoes\\\\Solicitações Registradas na Anatel (2017-RR).csv',\n",
       " 'Dados/ANATEL/Solicitacoes\\\\Solicitações Registradas na Anatel (2017-RS).csv',\n",
       " 'Dados/ANATEL/Solicitacoes\\\\Solicitações Registradas na Anatel (2017-SC).csv',\n",
       " 'Dados/ANATEL/Solicitacoes\\\\Solicitações Registradas na Anatel (2017-SE).csv',\n",
       " 'Dados/ANATEL/Solicitacoes\\\\Solicitações Registradas na Anatel (2017-SP).csv',\n",
       " 'Dados/ANATEL/Solicitacoes\\\\Solicitações Registradas na Anatel (2017-TO).csv',\n",
       " 'Dados/ANATEL/Solicitacoes\\\\Solicitações Registradas na Anatel (2018-AC).csv',\n",
       " 'Dados/ANATEL/Solicitacoes\\\\Solicitações Registradas na Anatel (2018-AL).csv',\n",
       " 'Dados/ANATEL/Solicitacoes\\\\Solicitações Registradas na Anatel (2018-AM).csv',\n",
       " 'Dados/ANATEL/Solicitacoes\\\\Solicitações Registradas na Anatel (2018-AP).csv',\n",
       " 'Dados/ANATEL/Solicitacoes\\\\Solicitações Registradas na Anatel (2018-BA).csv',\n",
       " 'Dados/ANATEL/Solicitacoes\\\\Solicitações Registradas na Anatel (2018-CE).csv',\n",
       " 'Dados/ANATEL/Solicitacoes\\\\Solicitações Registradas na Anatel (2018-DF).csv',\n",
       " 'Dados/ANATEL/Solicitacoes\\\\Solicitações Registradas na Anatel (2018-ES).csv',\n",
       " 'Dados/ANATEL/Solicitacoes\\\\Solicitações Registradas na Anatel (2018-GO).csv',\n",
       " 'Dados/ANATEL/Solicitacoes\\\\Solicitações Registradas na Anatel (2018-MA).csv',\n",
       " 'Dados/ANATEL/Solicitacoes\\\\Solicitações Registradas na Anatel (2018-MG).csv',\n",
       " 'Dados/ANATEL/Solicitacoes\\\\Solicitações Registradas na Anatel (2018-MS).csv',\n",
       " 'Dados/ANATEL/Solicitacoes\\\\Solicitações Registradas na Anatel (2018-MT).csv',\n",
       " 'Dados/ANATEL/Solicitacoes\\\\Solicitações Registradas na Anatel (2018-ND).csv',\n",
       " 'Dados/ANATEL/Solicitacoes\\\\Solicitações Registradas na Anatel (2018-PA).csv',\n",
       " 'Dados/ANATEL/Solicitacoes\\\\Solicitações Registradas na Anatel (2018-PB).csv',\n",
       " 'Dados/ANATEL/Solicitacoes\\\\Solicitações Registradas na Anatel (2018-PE).csv',\n",
       " 'Dados/ANATEL/Solicitacoes\\\\Solicitações Registradas na Anatel (2018-PI).csv',\n",
       " 'Dados/ANATEL/Solicitacoes\\\\Solicitações Registradas na Anatel (2018-PR).csv',\n",
       " 'Dados/ANATEL/Solicitacoes\\\\Solicitações Registradas na Anatel (2018-RJ).csv',\n",
       " 'Dados/ANATEL/Solicitacoes\\\\Solicitações Registradas na Anatel (2018-RN).csv',\n",
       " 'Dados/ANATEL/Solicitacoes\\\\Solicitações Registradas na Anatel (2018-RO).csv',\n",
       " 'Dados/ANATEL/Solicitacoes\\\\Solicitações Registradas na Anatel (2018-RR).csv',\n",
       " 'Dados/ANATEL/Solicitacoes\\\\Solicitações Registradas na Anatel (2018-RS).csv',\n",
       " 'Dados/ANATEL/Solicitacoes\\\\Solicitações Registradas na Anatel (2018-SC).csv',\n",
       " 'Dados/ANATEL/Solicitacoes\\\\Solicitações Registradas na Anatel (2018-SE).csv',\n",
       " 'Dados/ANATEL/Solicitacoes\\\\Solicitações Registradas na Anatel (2018-SP).csv',\n",
       " 'Dados/ANATEL/Solicitacoes\\\\Solicitações Registradas na Anatel (2018-TO).csv',\n",
       " 'Dados/ANATEL/Solicitacoes\\\\Solicitações Registradas na Anatel (2019-AC).csv',\n",
       " 'Dados/ANATEL/Solicitacoes\\\\Solicitações Registradas na Anatel (2019-AL).csv',\n",
       " 'Dados/ANATEL/Solicitacoes\\\\Solicitações Registradas na Anatel (2019-AM).csv',\n",
       " 'Dados/ANATEL/Solicitacoes\\\\Solicitações Registradas na Anatel (2019-AP).csv',\n",
       " 'Dados/ANATEL/Solicitacoes\\\\Solicitações Registradas na Anatel (2019-BA).csv',\n",
       " 'Dados/ANATEL/Solicitacoes\\\\Solicitações Registradas na Anatel (2019-CE).csv',\n",
       " 'Dados/ANATEL/Solicitacoes\\\\Solicitações Registradas na Anatel (2019-DF).csv',\n",
       " 'Dados/ANATEL/Solicitacoes\\\\Solicitações Registradas na Anatel (2019-ES).csv',\n",
       " 'Dados/ANATEL/Solicitacoes\\\\Solicitações Registradas na Anatel (2019-GO).csv',\n",
       " 'Dados/ANATEL/Solicitacoes\\\\Solicitações Registradas na Anatel (2019-MA).csv',\n",
       " 'Dados/ANATEL/Solicitacoes\\\\Solicitações Registradas na Anatel (2019-MG).csv',\n",
       " 'Dados/ANATEL/Solicitacoes\\\\Solicitações Registradas na Anatel (2019-MS).csv',\n",
       " 'Dados/ANATEL/Solicitacoes\\\\Solicitações Registradas na Anatel (2019-MT).csv',\n",
       " 'Dados/ANATEL/Solicitacoes\\\\Solicitações Registradas na Anatel (2019-ND).csv',\n",
       " 'Dados/ANATEL/Solicitacoes\\\\Solicitações Registradas na Anatel (2019-PA).csv',\n",
       " 'Dados/ANATEL/Solicitacoes\\\\Solicitações Registradas na Anatel (2019-PB).csv',\n",
       " 'Dados/ANATEL/Solicitacoes\\\\Solicitações Registradas na Anatel (2019-PE).csv',\n",
       " 'Dados/ANATEL/Solicitacoes\\\\Solicitações Registradas na Anatel (2019-PI).csv',\n",
       " 'Dados/ANATEL/Solicitacoes\\\\Solicitações Registradas na Anatel (2019-PR).csv',\n",
       " 'Dados/ANATEL/Solicitacoes\\\\Solicitações Registradas na Anatel (2019-RJ).csv',\n",
       " 'Dados/ANATEL/Solicitacoes\\\\Solicitações Registradas na Anatel (2019-RN).csv',\n",
       " 'Dados/ANATEL/Solicitacoes\\\\Solicitações Registradas na Anatel (2019-RO).csv',\n",
       " 'Dados/ANATEL/Solicitacoes\\\\Solicitações Registradas na Anatel (2019-RR).csv',\n",
       " 'Dados/ANATEL/Solicitacoes\\\\Solicitações Registradas na Anatel (2019-RS).csv',\n",
       " 'Dados/ANATEL/Solicitacoes\\\\Solicitações Registradas na Anatel (2019-SC).csv',\n",
       " 'Dados/ANATEL/Solicitacoes\\\\Solicitações Registradas na Anatel (2019-SE).csv',\n",
       " 'Dados/ANATEL/Solicitacoes\\\\Solicitações Registradas na Anatel (2019-SP).csv',\n",
       " 'Dados/ANATEL/Solicitacoes\\\\Solicitações Registradas na Anatel (2019-TO).csv']"
      ]
     },
     "execution_count": 2,
     "metadata": {},
     "output_type": "execute_result"
    }
   ],
   "source": [
    "#Buscando os nome de todos arquivos\n",
    "arquivos = sorted(glob('Dados/ANATEL/Solicitacoes/Solicitações Registradas na Anatel *.csv'))\n",
    "arquivos"
   ]
  },
  {
   "cell_type": "code",
   "execution_count": 3,
   "metadata": {},
   "outputs": [],
   "source": [
    "#Importando\n",
    "df = pd.concat((pd.read_csv(file, sep=';', encoding='iso-8859-1').assign(filename=file) for file in arquivos), ignore_index = True)"
   ]
  },
  {
   "cell_type": "code",
   "execution_count": 4,
   "metadata": {},
   "outputs": [
    {
     "data": {
      "text/html": [
       "<div>\n",
       "<style scoped>\n",
       "    .dataframe tbody tr th:only-of-type {\n",
       "        vertical-align: middle;\n",
       "    }\n",
       "\n",
       "    .dataframe tbody tr th {\n",
       "        vertical-align: top;\n",
       "    }\n",
       "\n",
       "    .dataframe thead th {\n",
       "        text-align: right;\n",
       "    }\n",
       "</style>\n",
       "<table border=\"1\" class=\"dataframe\">\n",
       "  <thead>\n",
       "    <tr style=\"text-align: right;\">\n",
       "      <th></th>\n",
       "      <th>DataExtracao</th>\n",
       "      <th>Ano</th>\n",
       "      <th>Mes</th>\n",
       "      <th>CanalEntrada</th>\n",
       "      <th>Condicao</th>\n",
       "      <th>GrupoEconNorm</th>\n",
       "      <th>Tipo</th>\n",
       "      <th>Servico</th>\n",
       "      <th>Modalidade</th>\n",
       "      <th>Motivo</th>\n",
       "      <th>UF</th>\n",
       "      <th>QtdeSolic</th>\n",
       "      <th>filename</th>\n",
       "    </tr>\n",
       "  </thead>\n",
       "  <tbody>\n",
       "    <tr>\n",
       "      <td>0</td>\n",
       "      <td>2016-04-28</td>\n",
       "      <td>2006</td>\n",
       "      <td>1</td>\n",
       "      <td>Atendimento Pessoal</td>\n",
       "      <td>Nova</td>\n",
       "      <td>CLARO</td>\n",
       "      <td>Reclamação</td>\n",
       "      <td>Móvel Pessoal</td>\n",
       "      <td>Pós-Pago</td>\n",
       "      <td>Completamento de Chamadas</td>\n",
       "      <td>AC</td>\n",
       "      <td>1</td>\n",
       "      <td>Dados/ANATEL/Solicitacoes\\Solicitações Registr...</td>\n",
       "    </tr>\n",
       "    <tr>\n",
       "      <td>1</td>\n",
       "      <td>2016-04-28</td>\n",
       "      <td>2006</td>\n",
       "      <td>1</td>\n",
       "      <td>Call Center</td>\n",
       "      <td>Nova</td>\n",
       "      <td>Anatel</td>\n",
       "      <td>Pedido de Informação</td>\n",
       "      <td>Serviços da Anatel</td>\n",
       "      <td>Cópia de Documentos</td>\n",
       "      <td>Solicitação (ID)</td>\n",
       "      <td>AC</td>\n",
       "      <td>4</td>\n",
       "      <td>Dados/ANATEL/Solicitacoes\\Solicitações Registr...</td>\n",
       "    </tr>\n",
       "    <tr>\n",
       "      <td>2</td>\n",
       "      <td>2016-04-28</td>\n",
       "      <td>2006</td>\n",
       "      <td>1</td>\n",
       "      <td>Call Center</td>\n",
       "      <td>Nova</td>\n",
       "      <td>CLARO</td>\n",
       "      <td>Reclamação</td>\n",
       "      <td>Móvel Pessoal</td>\n",
       "      <td>Pós-Pago</td>\n",
       "      <td>Reparo</td>\n",
       "      <td>AC</td>\n",
       "      <td>1</td>\n",
       "      <td>Dados/ANATEL/Solicitacoes\\Solicitações Registr...</td>\n",
       "    </tr>\n",
       "    <tr>\n",
       "      <td>3</td>\n",
       "      <td>2016-04-28</td>\n",
       "      <td>2006</td>\n",
       "      <td>1</td>\n",
       "      <td>Call Center</td>\n",
       "      <td>Nova</td>\n",
       "      <td>OI</td>\n",
       "      <td>Reclamação</td>\n",
       "      <td>Móvel Pessoal</td>\n",
       "      <td>Pós-Pago</td>\n",
       "      <td>Cancelamento</td>\n",
       "      <td>AC</td>\n",
       "      <td>1</td>\n",
       "      <td>Dados/ANATEL/Solicitacoes\\Solicitações Registr...</td>\n",
       "    </tr>\n",
       "    <tr>\n",
       "      <td>4</td>\n",
       "      <td>2016-04-28</td>\n",
       "      <td>2006</td>\n",
       "      <td>1</td>\n",
       "      <td>Call Center</td>\n",
       "      <td>Nova</td>\n",
       "      <td>OI</td>\n",
       "      <td>Reclamação</td>\n",
       "      <td>Móvel Pessoal</td>\n",
       "      <td>Pós-Pago</td>\n",
       "      <td>Cobrança</td>\n",
       "      <td>AC</td>\n",
       "      <td>1</td>\n",
       "      <td>Dados/ANATEL/Solicitacoes\\Solicitações Registr...</td>\n",
       "    </tr>\n",
       "  </tbody>\n",
       "</table>\n",
       "</div>"
      ],
      "text/plain": [
       "  DataExtracao   Ano  Mes          CanalEntrada Condicao GrupoEconNorm  \\\n",
       "0   2016-04-28  2006    1  Atendimento Pessoal      Nova         CLARO   \n",
       "1   2016-04-28  2006    1           Call Center     Nova        Anatel   \n",
       "2   2016-04-28  2006    1           Call Center     Nova         CLARO   \n",
       "3   2016-04-28  2006    1           Call Center     Nova            OI   \n",
       "4   2016-04-28  2006    1           Call Center     Nova            OI   \n",
       "\n",
       "                   Tipo             Servico           Modalidade  \\\n",
       "0            Reclamação       Móvel Pessoal             Pós-Pago   \n",
       "1  Pedido de Informação  Serviços da Anatel  Cópia de Documentos   \n",
       "2            Reclamação       Móvel Pessoal             Pós-Pago   \n",
       "3            Reclamação       Móvel Pessoal             Pós-Pago   \n",
       "4            Reclamação       Móvel Pessoal             Pós-Pago   \n",
       "\n",
       "                      Motivo  UF  QtdeSolic  \\\n",
       "0  Completamento de Chamadas  AC          1   \n",
       "1           Solicitação (ID)  AC          4   \n",
       "2                     Reparo  AC          1   \n",
       "3               Cancelamento  AC          1   \n",
       "4                   Cobrança  AC          1   \n",
       "\n",
       "                                            filename  \n",
       "0  Dados/ANATEL/Solicitacoes\\Solicitações Registr...  \n",
       "1  Dados/ANATEL/Solicitacoes\\Solicitações Registr...  \n",
       "2  Dados/ANATEL/Solicitacoes\\Solicitações Registr...  \n",
       "3  Dados/ANATEL/Solicitacoes\\Solicitações Registr...  \n",
       "4  Dados/ANATEL/Solicitacoes\\Solicitações Registr...  "
      ]
     },
     "execution_count": 4,
     "metadata": {},
     "output_type": "execute_result"
    }
   ],
   "source": [
    "df.head()"
   ]
  },
  {
   "cell_type": "code",
   "execution_count": 5,
   "metadata": {},
   "outputs": [
    {
     "data": {
      "text/plain": [
       "(5164306, 13)"
      ]
     },
     "execution_count": 5,
     "metadata": {},
     "output_type": "execute_result"
    }
   ],
   "source": [
    "df.shape"
   ]
  },
  {
   "cell_type": "code",
   "execution_count": 33,
   "metadata": {},
   "outputs": [
    {
     "data": {
      "text/html": [
       "<div>\n",
       "<style scoped>\n",
       "    .dataframe tbody tr th:only-of-type {\n",
       "        vertical-align: middle;\n",
       "    }\n",
       "\n",
       "    .dataframe tbody tr th {\n",
       "        vertical-align: top;\n",
       "    }\n",
       "\n",
       "    .dataframe thead th {\n",
       "        text-align: right;\n",
       "    }\n",
       "</style>\n",
       "<table border=\"1\" class=\"dataframe\">\n",
       "  <thead>\n",
       "    <tr style=\"text-align: right;\">\n",
       "      <th></th>\n",
       "      <th>Ano</th>\n",
       "      <th>Mes</th>\n",
       "      <th>QtdeSolic</th>\n",
       "    </tr>\n",
       "  </thead>\n",
       "  <tbody>\n",
       "    <tr>\n",
       "      <td>count</td>\n",
       "      <td>5.164306e+06</td>\n",
       "      <td>5.164306e+06</td>\n",
       "      <td>5.164306e+06</td>\n",
       "    </tr>\n",
       "    <tr>\n",
       "      <td>mean</td>\n",
       "      <td>2.014793e+03</td>\n",
       "      <td>6.334500e+00</td>\n",
       "      <td>6.444824e+00</td>\n",
       "    </tr>\n",
       "    <tr>\n",
       "      <td>std</td>\n",
       "      <td>3.449559e+00</td>\n",
       "      <td>3.383032e+00</td>\n",
       "      <td>4.564259e+01</td>\n",
       "    </tr>\n",
       "    <tr>\n",
       "      <td>min</td>\n",
       "      <td>2.006000e+03</td>\n",
       "      <td>1.000000e+00</td>\n",
       "      <td>1.000000e+00</td>\n",
       "    </tr>\n",
       "    <tr>\n",
       "      <td>25%</td>\n",
       "      <td>2.013000e+03</td>\n",
       "      <td>3.000000e+00</td>\n",
       "      <td>1.000000e+00</td>\n",
       "    </tr>\n",
       "    <tr>\n",
       "      <td>50%</td>\n",
       "      <td>2.016000e+03</td>\n",
       "      <td>6.000000e+00</td>\n",
       "      <td>1.000000e+00</td>\n",
       "    </tr>\n",
       "    <tr>\n",
       "      <td>75%</td>\n",
       "      <td>2.017000e+03</td>\n",
       "      <td>9.000000e+00</td>\n",
       "      <td>3.000000e+00</td>\n",
       "    </tr>\n",
       "    <tr>\n",
       "      <td>max</td>\n",
       "      <td>2.019000e+03</td>\n",
       "      <td>1.200000e+01</td>\n",
       "      <td>1.342200e+04</td>\n",
       "    </tr>\n",
       "  </tbody>\n",
       "</table>\n",
       "</div>"
      ],
      "text/plain": [
       "                Ano           Mes     QtdeSolic\n",
       "count  5.164306e+06  5.164306e+06  5.164306e+06\n",
       "mean   2.014793e+03  6.334500e+00  6.444824e+00\n",
       "std    3.449559e+00  3.383032e+00  4.564259e+01\n",
       "min    2.006000e+03  1.000000e+00  1.000000e+00\n",
       "25%    2.013000e+03  3.000000e+00  1.000000e+00\n",
       "50%    2.016000e+03  6.000000e+00  1.000000e+00\n",
       "75%    2.017000e+03  9.000000e+00  3.000000e+00\n",
       "max    2.019000e+03  1.200000e+01  1.342200e+04"
      ]
     },
     "execution_count": 33,
     "metadata": {},
     "output_type": "execute_result"
    }
   ],
   "source": [
    "df.describe()"
   ]
  },
  {
   "cell_type": "code",
   "execution_count": 34,
   "metadata": {},
   "outputs": [
    {
     "name": "stdout",
     "output_type": "stream",
     "text": [
      "<class 'pandas.core.frame.DataFrame'>\n",
      "RangeIndex: 5164306 entries, 0 to 5164305\n",
      "Data columns (total 13 columns):\n",
      "DataExtracao     object\n",
      "Ano              int64\n",
      "Mes              int64\n",
      "CanalEntrada     object\n",
      "Condicao         object\n",
      "GrupoEconNorm    object\n",
      "Tipo             object\n",
      "Servico          object\n",
      "Modalidade       object\n",
      "Motivo           object\n",
      "UF               object\n",
      "QtdeSolic        int64\n",
      "filename         object\n",
      "dtypes: int64(3), object(10)\n",
      "memory usage: 512.2+ MB\n"
     ]
    }
   ],
   "source": [
    "df.info()"
   ]
  },
  {
   "cell_type": "code",
   "execution_count": 6,
   "metadata": {},
   "outputs": [
    {
     "data": {
      "text/plain": [
       "Index(['DataExtracao', 'Ano', 'Mes', 'CanalEntrada', 'Condicao',\n",
       "       'GrupoEconNorm', 'Tipo', 'Servico', 'Modalidade', 'Motivo', 'UF',\n",
       "       'QtdeSolic', 'filename'],\n",
       "      dtype='object')"
      ]
     },
     "execution_count": 6,
     "metadata": {},
     "output_type": "execute_result"
    }
   ],
   "source": [
    "df.columns"
   ]
  },
  {
   "cell_type": "code",
   "execution_count": 40,
   "metadata": {},
   "outputs": [
    {
     "name": "stdout",
     "output_type": "stream",
     "text": [
      "DataExtracao 7\n",
      "Ano 14\n",
      "Mes 12\n",
      "CanalEntrada 11\n",
      "Condicao 3\n",
      "GrupoEconNorm 22\n",
      "Tipo 5\n",
      "Servico 19\n",
      "Modalidade 71\n",
      "Motivo 383\n",
      "UF 28\n",
      "QtdeSolic 1969\n",
      "filename 392\n"
     ]
    }
   ],
   "source": [
    "#Visualizando os valores unicos de cada coluna\n",
    "for col in df.columns:\n",
    "    print(col, len(df[col].unique()))\n",
    "    \n",
    "# A coluna Motivo possui muitos valores unicos, dificultando a analise"
   ]
  },
  {
   "cell_type": "code",
   "execution_count": 8,
   "metadata": {},
   "outputs": [
    {
     "data": {
      "text/plain": [
       "OI                   0.248759\n",
       "VIVO                 0.187411\n",
       "TIM                  0.151145\n",
       "CLARO                0.131807\n",
       "NET                  0.106360\n",
       "SKY                  0.050858\n",
       "Anatel               0.040512\n",
       "Outros               0.035884\n",
       "NEXTEL               0.015742\n",
       "GVT                  0.014126\n",
       "ALGAR                0.009927\n",
       "EMBRATEL             0.002619\n",
       "BLUE                 0.001689\n",
       "SERCOMTEL            0.001392\n",
       "HUGHES NET           0.000574\n",
       "Intelig              0.000402\n",
       "Correios Celular     0.000291\n",
       "Brisanet             0.000189\n",
       "NaN                  0.000172\n",
       "CABO TELECOM         0.000112\n",
       "NOSSA TV - BRASIL    0.000021\n",
       "Datora               0.000009\n",
       "Name: GrupoEconNorm, dtype: float64"
      ]
     },
     "execution_count": 8,
     "metadata": {},
     "output_type": "execute_result"
    }
   ],
   "source": [
    "df.GrupoEconNorm.value_counts(normalize=True, dropna=False)\n",
    "\n",
    "# 80% das solicitacoes sao feitas para 5 empresas: 0I, Vivo, Tim, CLaro e Net"
   ]
  },
  {
   "cell_type": "code",
   "execution_count": 9,
   "metadata": {},
   "outputs": [
    {
     "data": {
      "text/plain": [
       "Celular Pós-Pago                                           0.193753\n",
       "TV por Assinatura                                          0.151161\n",
       "Móvel Pessoal                                              0.150674\n",
       "Telefone Fixo                                              0.116490\n",
       "Banda Larga Fixa                                           0.114289\n",
       "Celular Pré-Pago                                           0.113841\n",
       "Serviço Telefônico Fixo Comutado - STFC                    0.081468\n",
       "Serviço de Comunicação Multimídia                          0.042541\n",
       "Serviços da Anatel                                         0.019549\n",
       "Radiodifusão (Rádio e TV)                                  0.005454\n",
       "Radioamador (PY)                                           0.002499\n",
       "Rádio do Cidadão (PX)                                      0.002040\n",
       "Outros                                                     0.001818\n",
       "Troncalizado (Trunking)                                    0.001705\n",
       "Serviço de Rede e Transporte de Telecomunicações - SRTT    0.001136\n",
       "Limitado Privado                                           0.001114\n",
       "Serviço Móvel Aeronáutico                                  0.000256\n",
       "Serviço Móvel Marítimo                                     0.000141\n",
       "Radiochamada (Paging)                                      0.000070\n",
       "Name: Servico, dtype: float64"
      ]
     },
     "execution_count": 9,
     "metadata": {},
     "output_type": "execute_result"
    }
   ],
   "source": [
    "# Servicos das solicitacoes\n",
    "df.Servico.value_counts(normalize=True, dropna=False)\n",
    "\n",
    "# Celular Pós-Pago, TV por Assinatura, Móvel Pessoal, Telefone Fixo, Banda Larga Fixa e Celular Pré-Pago \n",
    "# correspondem a mais de 80% das solicitacoes "
   ]
  },
  {
   "cell_type": "code",
   "execution_count": 10,
   "metadata": {},
   "outputs": [
    {
     "data": {
      "text/plain": [
       "Cobrança                                                                0.161986\n",
       "Pós-Pago                                                                0.090251\n",
       "Qualidade, Funcionamento e Reparo                                       0.077282\n",
       "Local                                                                   0.070783\n",
       "Oferta, Bônus, Promoções, Mensagens Publicitárias e Mudança de Plano    0.059840\n",
       "Pré-Pago                                                                0.058839\n",
       "Cancelamento                                                            0.051823\n",
       "Instalação ou Ativação ou Habilitação                                   0.046146\n",
       "Atendimento                                                             0.043604\n",
       "Bloqueio ou Suspensão e Desbloqueio                                     0.041279\n",
       "Name: Modalidade, dtype: float64"
      ]
     },
     "execution_count": 10,
     "metadata": {},
     "output_type": "execute_result"
    }
   ],
   "source": [
    "# Modalidades das solicitacoes\n",
    "\n",
    "df.Modalidade.value_counts(normalize=True, dropna=False).head(10)\n",
    "\n",
    "# Valores muito difusos"
   ]
  },
  {
   "cell_type": "code",
   "execution_count": 11,
   "metadata": {},
   "outputs": [
    {
     "data": {
      "text/plain": [
       "Reclamação              0.943954\n",
       "Pedido de Informação    0.042172\n",
       "Denúncia                0.008240\n",
       "Sugestão                0.003518\n",
       "Elogio                  0.002116\n",
       "Name: Tipo, dtype: float64"
      ]
     },
     "execution_count": 11,
     "metadata": {},
     "output_type": "execute_result"
    }
   ],
   "source": [
    "df.Tipo.value_counts(normalize=True, dropna=False)\n",
    "\n",
    "# Reclamacoes sao 94% dos tipos de solicitacoes"
   ]
  },
  {
   "cell_type": "code",
   "execution_count": 12,
   "metadata": {},
   "outputs": [
    {
     "data": {
      "text/plain": [
       "Cobrança                                                0.053060\n",
       "Reparo                                                  0.031265\n",
       "Cancelamento                                            0.023763\n",
       "Atendimento                                             0.022842\n",
       "Cobrança em desacordo com o contratado                  0.021697\n",
       "Outros                                                  0.020234\n",
       "Bloqueio                                                0.017474\n",
       "Serviços Adicionais                                     0.017376\n",
       "Cobrança após cancelamento                              0.015712\n",
       "Cobrança de serviço, produto ou plano não contratado    0.014340\n",
       "Name: Motivo, dtype: float64"
      ]
     },
     "execution_count": 12,
     "metadata": {},
     "output_type": "execute_result"
    }
   ],
   "source": [
    "df.Motivo.value_counts(normalize=True, dropna=False).head(10)"
   ]
  },
  {
   "cell_type": "code",
   "execution_count": 47,
   "metadata": {},
   "outputs": [
    {
     "name": "stdout",
     "output_type": "stream",
     "text": [
      "OI\n",
      "Reclamação              0.981591\n",
      "Pedido de Informação    0.014271\n",
      "Sugestão                0.001919\n",
      "Elogio                  0.001264\n",
      "Denúncia                0.000955\n",
      "Name: Tipo, dtype: float64\n",
      "\n",
      "\n",
      "TIM\n",
      "Reclamação              0.988791\n",
      "Pedido de Informação    0.008340\n",
      "Sugestão                0.001363\n",
      "Elogio                  0.000928\n",
      "Denúncia                0.000578\n",
      "Name: Tipo, dtype: float64\n",
      "\n",
      "\n",
      "VIVO\n",
      "Reclamação              0.985440\n",
      "Pedido de Informação    0.010896\n",
      "Sugestão                0.001753\n",
      "Elogio                  0.001151\n",
      "Denúncia                0.000759\n",
      "Name: Tipo, dtype: float64\n",
      "\n",
      "\n",
      "CLARO\n",
      "Reclamação              0.987113\n",
      "Pedido de Informação    0.009818\n",
      "Sugestão                0.001352\n",
      "Elogio                  0.000977\n",
      "Denúncia                0.000740\n",
      "Name: Tipo, dtype: float64\n",
      "\n",
      "\n",
      "NET\n",
      "Reclamação              0.989047\n",
      "Pedido de Informação    0.007328\n",
      "Denúncia                0.001715\n",
      "Sugestão                0.001285\n",
      "Elogio                  0.000624\n",
      "Name: Tipo, dtype: float64\n",
      "\n",
      "\n"
     ]
    }
   ],
   "source": [
    "# Solicitacoes por tipo, para as 5 grnades empresas\n",
    "cinco_maiores = ['OI', 'TIM', 'VIVO', 'CLARO', 'NET']\n",
    "\n",
    "for empresa in cinco_maiores:\n",
    "    print(empresa)\n",
    "    print(df[df.GrupoEconNorm == empresa].Tipo.value_counts(normalize=True, dropna=False))\n",
    "    print(\"\\n\")\n",
    "\n",
    "# Todas as grander possuem taxas de reclamacoes proximas"
   ]
  },
  {
   "cell_type": "code",
   "execution_count": 14,
   "metadata": {},
   "outputs": [
    {
     "data": {
      "text/plain": [
       "Tipo      Ano \n",
       "Denúncia  2008    0.111581\n",
       "          2012    0.098421\n",
       "          2006    0.084579\n",
       "          2011    0.083568\n",
       "          2010    0.081242\n",
       "                    ...   \n",
       "Sugestão  2016    0.039351\n",
       "          2014    0.025261\n",
       "          2019    0.023830\n",
       "          2018    0.023500\n",
       "          2017    0.021189\n",
       "Name: Ano, Length: 67, dtype: float64"
      ]
     },
     "execution_count": 14,
     "metadata": {},
     "output_type": "execute_result"
    }
   ],
   "source": [
    "#Analisando como foi a distibuicoes de tipo de solicitacoes pelo tempo\n",
    "df.groupby('Tipo')['Ano'].value_counts(normalize=True, dropna=False)"
   ]
  },
  {
   "cell_type": "code",
   "execution_count": 15,
   "metadata": {},
   "outputs": [],
   "source": [
    "tipos_ano = df.groupby('Tipo')['Ano'].value_counts(normalize=True, dropna=False)"
   ]
  },
  {
   "cell_type": "code",
   "execution_count": 16,
   "metadata": {},
   "outputs": [
    {
     "data": {
      "text/plain": [
       "Ano\n",
       "2016    0.153772\n",
       "2015    0.146969\n",
       "2017    0.141527\n",
       "2018    0.135330\n",
       "2019    0.110712\n",
       "2014    0.052549\n",
       "2013    0.051600\n",
       "2012    0.042808\n",
       "2011    0.034098\n",
       "2010    0.031633\n",
       "2009    0.030247\n",
       "2008    0.027560\n",
       "2007    0.021511\n",
       "2006    0.019685\n",
       "Name: Ano, dtype: float64"
      ]
     },
     "execution_count": 16,
     "metadata": {},
     "output_type": "execute_result"
    }
   ],
   "source": [
    "# Analisando somente o numero de reclamacoes\n",
    "tipos_ano['Reclamação']\n",
    "\n",
    "# Aparentemente a normalizacao nao foi feita pelo total de solicitacoes por ano, mas pelo total de cada tipo em toda a serie\n",
    "# historica"
   ]
  },
  {
   "cell_type": "code",
   "execution_count": 17,
   "metadata": {},
   "outputs": [
    {
     "data": {
      "text/plain": [
       "Ano   Tipo                \n",
       "2006  Reclamação              0.803545\n",
       "      Pedido de Informação    0.141180\n",
       "      Denúncia                0.030137\n",
       "      Sugestão                0.016446\n",
       "      Elogio                  0.008692\n",
       "                                ...   \n",
       "2018  Sugestão                0.000634\n",
       "2019  Reclamação              0.979334\n",
       "      Pedido de Informação    0.017137\n",
       "      Denúncia                0.002744\n",
       "      Sugestão                0.000786\n",
       "Name: Tipo, Length: 67, dtype: float64"
      ]
     },
     "execution_count": 17,
     "metadata": {},
     "output_type": "execute_result"
    }
   ],
   "source": [
    "#Tentando o contrario\n",
    "df.groupby('Ano')['Tipo'].value_counts(normalize=True, dropna=False)\n",
    "\n",
    "# Agora sim esta normalizado pelo total de tipos do ano"
   ]
  },
  {
   "cell_type": "code",
   "execution_count": 18,
   "metadata": {},
   "outputs": [
    {
     "data": {
      "text/plain": [
       "pandas.core.series.Series"
      ]
     },
     "execution_count": 18,
     "metadata": {},
     "output_type": "execute_result"
    }
   ],
   "source": [
    "type(tipos_ano)"
   ]
  },
  {
   "cell_type": "code",
   "execution_count": 19,
   "metadata": {},
   "outputs": [
    {
     "data": {
      "text/html": [
       "<div>\n",
       "<style scoped>\n",
       "    .dataframe tbody tr th:only-of-type {\n",
       "        vertical-align: middle;\n",
       "    }\n",
       "\n",
       "    .dataframe tbody tr th {\n",
       "        vertical-align: top;\n",
       "    }\n",
       "\n",
       "    .dataframe thead th {\n",
       "        text-align: right;\n",
       "    }\n",
       "</style>\n",
       "<table border=\"1\" class=\"dataframe\">\n",
       "  <thead>\n",
       "    <tr style=\"text-align: right;\">\n",
       "      <th></th>\n",
       "      <th>Ano</th>\n",
       "      <th>Tipo</th>\n",
       "      <th>Contagem</th>\n",
       "    </tr>\n",
       "  </thead>\n",
       "  <tbody>\n",
       "    <tr>\n",
       "      <td>0</td>\n",
       "      <td>2006</td>\n",
       "      <td>Reclamação</td>\n",
       "      <td>0.803545</td>\n",
       "    </tr>\n",
       "    <tr>\n",
       "      <td>1</td>\n",
       "      <td>2006</td>\n",
       "      <td>Pedido de Informação</td>\n",
       "      <td>0.141180</td>\n",
       "    </tr>\n",
       "    <tr>\n",
       "      <td>2</td>\n",
       "      <td>2006</td>\n",
       "      <td>Denúncia</td>\n",
       "      <td>0.030137</td>\n",
       "    </tr>\n",
       "    <tr>\n",
       "      <td>3</td>\n",
       "      <td>2006</td>\n",
       "      <td>Sugestão</td>\n",
       "      <td>0.016446</td>\n",
       "    </tr>\n",
       "    <tr>\n",
       "      <td>4</td>\n",
       "      <td>2006</td>\n",
       "      <td>Elogio</td>\n",
       "      <td>0.008692</td>\n",
       "    </tr>\n",
       "    <tr>\n",
       "      <td>...</td>\n",
       "      <td>...</td>\n",
       "      <td>...</td>\n",
       "      <td>...</td>\n",
       "    </tr>\n",
       "    <tr>\n",
       "      <td>62</td>\n",
       "      <td>2018</td>\n",
       "      <td>Sugestão</td>\n",
       "      <td>0.000634</td>\n",
       "    </tr>\n",
       "    <tr>\n",
       "      <td>63</td>\n",
       "      <td>2019</td>\n",
       "      <td>Reclamação</td>\n",
       "      <td>0.979334</td>\n",
       "    </tr>\n",
       "    <tr>\n",
       "      <td>64</td>\n",
       "      <td>2019</td>\n",
       "      <td>Pedido de Informação</td>\n",
       "      <td>0.017137</td>\n",
       "    </tr>\n",
       "    <tr>\n",
       "      <td>65</td>\n",
       "      <td>2019</td>\n",
       "      <td>Denúncia</td>\n",
       "      <td>0.002744</td>\n",
       "    </tr>\n",
       "    <tr>\n",
       "      <td>66</td>\n",
       "      <td>2019</td>\n",
       "      <td>Sugestão</td>\n",
       "      <td>0.000786</td>\n",
       "    </tr>\n",
       "  </tbody>\n",
       "</table>\n",
       "<p>67 rows × 3 columns</p>\n",
       "</div>"
      ],
      "text/plain": [
       "     Ano                  Tipo  Contagem\n",
       "0   2006            Reclamação  0.803545\n",
       "1   2006  Pedido de Informação  0.141180\n",
       "2   2006              Denúncia  0.030137\n",
       "3   2006              Sugestão  0.016446\n",
       "4   2006                Elogio  0.008692\n",
       "..   ...                   ...       ...\n",
       "62  2018              Sugestão  0.000634\n",
       "63  2019            Reclamação  0.979334\n",
       "64  2019  Pedido de Informação  0.017137\n",
       "65  2019              Denúncia  0.002744\n",
       "66  2019              Sugestão  0.000786\n",
       "\n",
       "[67 rows x 3 columns]"
      ]
     },
     "execution_count": 19,
     "metadata": {},
     "output_type": "execute_result"
    }
   ],
   "source": [
    "# Porem esse serie precisa ser transformado em data frame pra poder ser manipulada\n",
    "\n",
    "grouper = df.groupby(pd.Grouper('Ano'))\n",
    "grouper['Tipo'].value_counts(normalize=True, dropna=False).to_frame('Contagem').reset_index()"
   ]
  },
  {
   "cell_type": "code",
   "execution_count": 20,
   "metadata": {},
   "outputs": [
    {
     "data": {
      "text/html": [
       "<div>\n",
       "<style scoped>\n",
       "    .dataframe tbody tr th:only-of-type {\n",
       "        vertical-align: middle;\n",
       "    }\n",
       "\n",
       "    .dataframe tbody tr th {\n",
       "        vertical-align: top;\n",
       "    }\n",
       "\n",
       "    .dataframe thead th {\n",
       "        text-align: right;\n",
       "    }\n",
       "</style>\n",
       "<table border=\"1\" class=\"dataframe\">\n",
       "  <thead>\n",
       "    <tr style=\"text-align: right;\">\n",
       "      <th></th>\n",
       "      <th>Tipo</th>\n",
       "      <th>Contagem</th>\n",
       "    </tr>\n",
       "    <tr>\n",
       "      <th>Ano</th>\n",
       "      <th></th>\n",
       "      <th></th>\n",
       "    </tr>\n",
       "  </thead>\n",
       "  <tbody>\n",
       "    <tr>\n",
       "      <td>2006</td>\n",
       "      <td>Reclamação</td>\n",
       "      <td>0.803545</td>\n",
       "    </tr>\n",
       "    <tr>\n",
       "      <td>2007</td>\n",
       "      <td>Reclamação</td>\n",
       "      <td>0.806084</td>\n",
       "    </tr>\n",
       "    <tr>\n",
       "      <td>2008</td>\n",
       "      <td>Reclamação</td>\n",
       "      <td>0.817275</td>\n",
       "    </tr>\n",
       "    <tr>\n",
       "      <td>2009</td>\n",
       "      <td>Reclamação</td>\n",
       "      <td>0.857924</td>\n",
       "    </tr>\n",
       "    <tr>\n",
       "      <td>2010</td>\n",
       "      <td>Reclamação</td>\n",
       "      <td>0.869899</td>\n",
       "    </tr>\n",
       "    <tr>\n",
       "      <td>2011</td>\n",
       "      <td>Reclamação</td>\n",
       "      <td>0.873409</td>\n",
       "    </tr>\n",
       "    <tr>\n",
       "      <td>2012</td>\n",
       "      <td>Reclamação</td>\n",
       "      <td>0.887707</td>\n",
       "    </tr>\n",
       "    <tr>\n",
       "      <td>2013</td>\n",
       "      <td>Reclamação</td>\n",
       "      <td>0.913075</td>\n",
       "    </tr>\n",
       "    <tr>\n",
       "      <td>2014</td>\n",
       "      <td>Reclamação</td>\n",
       "      <td>0.950912</td>\n",
       "    </tr>\n",
       "    <tr>\n",
       "      <td>2015</td>\n",
       "      <td>Reclamação</td>\n",
       "      <td>0.975939</td>\n",
       "    </tr>\n",
       "    <tr>\n",
       "      <td>2016</td>\n",
       "      <td>Reclamação</td>\n",
       "      <td>0.977278</td>\n",
       "    </tr>\n",
       "    <tr>\n",
       "      <td>2017</td>\n",
       "      <td>Reclamação</td>\n",
       "      <td>0.978692</td>\n",
       "    </tr>\n",
       "    <tr>\n",
       "      <td>2018</td>\n",
       "      <td>Reclamação</td>\n",
       "      <td>0.979121</td>\n",
       "    </tr>\n",
       "    <tr>\n",
       "      <td>2019</td>\n",
       "      <td>Reclamação</td>\n",
       "      <td>0.979334</td>\n",
       "    </tr>\n",
       "  </tbody>\n",
       "</table>\n",
       "</div>"
      ],
      "text/plain": [
       "            Tipo  Contagem\n",
       "Ano                       \n",
       "2006  Reclamação  0.803545\n",
       "2007  Reclamação  0.806084\n",
       "2008  Reclamação  0.817275\n",
       "2009  Reclamação  0.857924\n",
       "2010  Reclamação  0.869899\n",
       "2011  Reclamação  0.873409\n",
       "2012  Reclamação  0.887707\n",
       "2013  Reclamação  0.913075\n",
       "2014  Reclamação  0.950912\n",
       "2015  Reclamação  0.975939\n",
       "2016  Reclamação  0.977278\n",
       "2017  Reclamação  0.978692\n",
       "2018  Reclamação  0.979121\n",
       "2019  Reclamação  0.979334"
      ]
     },
     "execution_count": 20,
     "metadata": {},
     "output_type": "execute_result"
    }
   ],
   "source": [
    "# Filtrando por tipo de solicitacao\n",
    "\n",
    "tipos_ano_df = grouper['Tipo'].value_counts(normalize=True, dropna=False).to_frame('Contagem').reset_index()\n",
    "tipos_ano_df.set_index('Ano', inplace=True)\n",
    "tipos_ano_df[tipos_ano_df.Tipo == 'Reclamação']"
   ]
  },
  {
   "cell_type": "code",
   "execution_count": 22,
   "metadata": {},
   "outputs": [
    {
     "data": {
      "text/plain": [
       "pandas.core.frame.DataFrame"
      ]
     },
     "execution_count": 22,
     "metadata": {},
     "output_type": "execute_result"
    }
   ],
   "source": [
    "reclamacao_ano = tipos_ano_df[tipos_ano_df.Tipo == 'Reclamação']\n",
    "type(reclamacao_ano)"
   ]
  },
  {
   "cell_type": "code",
   "execution_count": 23,
   "metadata": {},
   "outputs": [
    {
     "data": {
      "text/plain": [
       "Int64Index([2006, 2007, 2008, 2009, 2010, 2011, 2012, 2013, 2014, 2015, 2016,\n",
       "            2017, 2018, 2019],\n",
       "           dtype='int64', name='Ano')"
      ]
     },
     "execution_count": 23,
     "metadata": {},
     "output_type": "execute_result"
    }
   ],
   "source": [
    "reclamacao_ano.index"
   ]
  },
  {
   "cell_type": "code",
   "execution_count": 24,
   "metadata": {},
   "outputs": [],
   "source": [
    "# Importando matplotlib para plotar os graficos\n",
    "import matplotlib.pyplot as plt"
   ]
  },
  {
   "cell_type": "code",
   "execution_count": 25,
   "metadata": {},
   "outputs": [
    {
     "data": {
      "text/plain": [
       "[<matplotlib.lines.Line2D at 0x1d6808b1f88>]"
      ]
     },
     "execution_count": 25,
     "metadata": {},
     "output_type": "execute_result"
    },
    {
     "data": {
      "image/png": "[encoded data removed]",
      "text/plain": [
       "<Figure size 432x288 with 5 Axes>"
      ]
     },
     "metadata": {
      "needs_background": "light"
     },
     "output_type": "display_data"
    }
   ],
   "source": [
    "# Plotando a % de solicitacoes por tipo por ano, em subplots para poder compara-los\n",
    "\n",
    "fig, (ax1, ax2, ax3, ax4, ax5) = plt.subplots(5)\n",
    "ax1.plot(tipos_ano_df[tipos_ano_df.Tipo == 'Reclamação'].index, tipos_ano_df[tipos_ano_df.Tipo == 'Reclamação']['Contagem'])\n",
    "ax2.plot(tipos_ano_df[tipos_ano_df.Tipo == 'Pedido de Informação'].index, tipos_ano_df[tipos_ano_df.Tipo == 'Pedido de Informação']['Contagem'])\n",
    "ax3.plot(tipos_ano_df[tipos_ano_df.Tipo == 'Denúncia'].index, tipos_ano_df[tipos_ano_df.Tipo == 'Denúncia']['Contagem'])\n",
    "ax4.plot(tipos_ano_df[tipos_ano_df.Tipo == 'Sugestão'].index, tipos_ano_df[tipos_ano_df.Tipo == 'Sugestão']['Contagem'])\n",
    "ax5.plot(tipos_ano_df[tipos_ano_df.Tipo == 'Elogio'].index, tipos_ano_df[tipos_ano_df.Tipo == 'Elogio']['Contagem'])"
   ]
  },
  {
   "cell_type": "code",
   "execution_count": 26,
   "metadata": {},
   "outputs": [
    {
     "data": {
      "text/plain": [
       "Text(0, 0.5, 'Distribuicao do total de tipos')"
      ]
     },
     "execution_count": 26,
     "metadata": {},
     "output_type": "execute_result"
    },
    {
     "data": {
      "image/png": "[encoded data removed]",
      "text/plain": [
       "<Figure size 432x288 with 1 Axes>"
      ]
     },
     "metadata": {
      "needs_background": "light"
     },
     "output_type": "display_data"
    }
   ],
   "source": [
    "# Plotando todos em um mesmo plot, sem o tipo 'Elogio' que tem um numero muito baixo, para ver se melhora a visualizacao\n",
    "\n",
    "plt.plot(tipos_ano_df[tipos_ano_df.Tipo == 'Reclamação'].index, tipos_ano_df[tipos_ano_df.Tipo == 'Reclamação']['Contagem'], label='Reclamação')\n",
    "plt.plot(tipos_ano_df[tipos_ano_df.Tipo == 'Pedido de Informação'].index, tipos_ano_df[tipos_ano_df.Tipo == 'Pedido de Informação']['Contagem'], label='Pedido de Informação')\n",
    "plt.plot(tipos_ano_df[tipos_ano_df.Tipo == 'Denúncia'].index, tipos_ano_df[tipos_ano_df.Tipo == 'Denúncia']['Contagem'], label='Denúncia')\n",
    "plt.plot(tipos_ano_df[tipos_ano_df.Tipo == 'Sugestão'].index, tipos_ano_df[tipos_ano_df.Tipo == 'Sugestão']['Contagem'], label='Sugestão')\n",
    "plt.title(\"Distribuicao normalizada do total de tipos de solicitacao por ano\")\n",
    "plt.legend()\n",
    "plt.xlabel('Ano')\n",
    "plt.ylabel('Distribuicao do total de tipos')"
   ]
  },
  {
   "cell_type": "code",
   "execution_count": 27,
   "metadata": {},
   "outputs": [
    {
     "data": {
      "text/html": [
       "<div>\n",
       "<style scoped>\n",
       "    .dataframe tbody tr th:only-of-type {\n",
       "        vertical-align: middle;\n",
       "    }\n",
       "\n",
       "    .dataframe tbody tr th {\n",
       "        vertical-align: top;\n",
       "    }\n",
       "\n",
       "    .dataframe thead th {\n",
       "        text-align: right;\n",
       "    }\n",
       "</style>\n",
       "<table border=\"1\" class=\"dataframe\">\n",
       "  <thead>\n",
       "    <tr style=\"text-align: right;\">\n",
       "      <th></th>\n",
       "      <th>Tipo</th>\n",
       "      <th>Contagem</th>\n",
       "    </tr>\n",
       "    <tr>\n",
       "      <th>Ano</th>\n",
       "      <th></th>\n",
       "      <th></th>\n",
       "    </tr>\n",
       "  </thead>\n",
       "  <tbody>\n",
       "    <tr>\n",
       "      <td>2006</td>\n",
       "      <td>Pedido de Informação</td>\n",
       "      <td>0.141180</td>\n",
       "    </tr>\n",
       "    <tr>\n",
       "      <td>2007</td>\n",
       "      <td>Pedido de Informação</td>\n",
       "      <td>0.144426</td>\n",
       "    </tr>\n",
       "    <tr>\n",
       "      <td>2008</td>\n",
       "      <td>Pedido de Informação</td>\n",
       "      <td>0.135143</td>\n",
       "    </tr>\n",
       "    <tr>\n",
       "      <td>2009</td>\n",
       "      <td>Pedido de Informação</td>\n",
       "      <td>0.104773</td>\n",
       "    </tr>\n",
       "    <tr>\n",
       "      <td>2010</td>\n",
       "      <td>Pedido de Informação</td>\n",
       "      <td>0.094111</td>\n",
       "    </tr>\n",
       "    <tr>\n",
       "      <td>2011</td>\n",
       "      <td>Pedido de Informação</td>\n",
       "      <td>0.093688</td>\n",
       "    </tr>\n",
       "    <tr>\n",
       "      <td>2012</td>\n",
       "      <td>Pedido de Informação</td>\n",
       "      <td>0.081206</td>\n",
       "    </tr>\n",
       "    <tr>\n",
       "      <td>2013</td>\n",
       "      <td>Pedido de Informação</td>\n",
       "      <td>0.064525</td>\n",
       "    </tr>\n",
       "    <tr>\n",
       "      <td>2014</td>\n",
       "      <td>Pedido de Informação</td>\n",
       "      <td>0.036174</td>\n",
       "    </tr>\n",
       "    <tr>\n",
       "      <td>2015</td>\n",
       "      <td>Pedido de Informação</td>\n",
       "      <td>0.018178</td>\n",
       "    </tr>\n",
       "    <tr>\n",
       "      <td>2016</td>\n",
       "      <td>Pedido de Informação</td>\n",
       "      <td>0.018068</td>\n",
       "    </tr>\n",
       "    <tr>\n",
       "      <td>2017</td>\n",
       "      <td>Pedido de Informação</td>\n",
       "      <td>0.017730</td>\n",
       "    </tr>\n",
       "    <tr>\n",
       "      <td>2018</td>\n",
       "      <td>Pedido de Informação</td>\n",
       "      <td>0.017284</td>\n",
       "    </tr>\n",
       "    <tr>\n",
       "      <td>2019</td>\n",
       "      <td>Pedido de Informação</td>\n",
       "      <td>0.017137</td>\n",
       "    </tr>\n",
       "  </tbody>\n",
       "</table>\n",
       "</div>"
      ],
      "text/plain": [
       "                      Tipo  Contagem\n",
       "Ano                                 \n",
       "2006  Pedido de Informação  0.141180\n",
       "2007  Pedido de Informação  0.144426\n",
       "2008  Pedido de Informação  0.135143\n",
       "2009  Pedido de Informação  0.104773\n",
       "2010  Pedido de Informação  0.094111\n",
       "2011  Pedido de Informação  0.093688\n",
       "2012  Pedido de Informação  0.081206\n",
       "2013  Pedido de Informação  0.064525\n",
       "2014  Pedido de Informação  0.036174\n",
       "2015  Pedido de Informação  0.018178\n",
       "2016  Pedido de Informação  0.018068\n",
       "2017  Pedido de Informação  0.017730\n",
       "2018  Pedido de Informação  0.017284\n",
       "2019  Pedido de Informação  0.017137"
      ]
     },
     "execution_count": 27,
     "metadata": {},
     "output_type": "execute_result"
    }
   ],
   "source": [
    "tipos_ano_df[tipos_ano_df.Tipo == 'Pedido de Informação']"
   ]
  },
  {
   "cell_type": "code",
   "execution_count": 28,
   "metadata": {},
   "outputs": [
    {
     "name": "stdout",
     "output_type": "stream",
     "text": [
      "Fatia de Reclamacoes no total de tipo de solicitacoes\n",
      "\n",
      "\n",
      "2006  0.8035454103933949  ou  80.3545410393395 % do total\n",
      "2019  0.979333946655489  ou  97.9333946655489 % do total\n",
      "\n",
      "\n",
      "Variacao total e de  0.17578853626209412  ou  17.578853626209412 % do total\n"
     ]
    }
   ],
   "source": [
    "print('Fatia de Reclamacoes no total de tipo de solicitacoes')\n",
    "print(\"\\n\")\n",
    "print('2006 ', reclamacao_ano.loc[2006, 'Contagem'], ' ou ', (reclamacao_ano.loc[2006, 'Contagem']*100), '% do total')\n",
    "print('2019 ', reclamacao_ano.loc[2019, 'Contagem'], ' ou ', (reclamacao_ano.loc[2019, 'Contagem']*100), '% do total')\n",
    "print(\"\\n\")\n",
    "print('Variacao total e de ', reclamacao_ano.loc[2019, 'Contagem'] - reclamacao_ano.loc[2006, 'Contagem'], \\\n",
    "     ' ou ', (reclamacao_ano.loc[2019, 'Contagem'] - reclamacao_ano.loc[2006, 'Contagem'])*100, '% do total')"
   ]
  },
  {
   "cell_type": "code",
   "execution_count": 29,
   "metadata": {},
   "outputs": [
    {
     "name": "stdout",
     "output_type": "stream",
     "text": [
      "Fatia de Pedido de Informação no total de tipo de solicitacoes\n",
      "\n",
      "\n",
      "2006  0.14118001708227965  ou  14.118001708227965 % do total\n",
      "2019  0.01713672910576541  ou  1.713672910576541 % do total\n",
      "\n",
      "\n",
      "Variacao total e de  -0.12404328797651423  ou  -12.404328797651424 % do total\n"
     ]
    }
   ],
   "source": [
    "ped_info_ano = tipos_ano_df[tipos_ano_df.Tipo == 'Pedido de Informação']\n",
    "print('Fatia de Pedido de Informação no total de tipo de solicitacoes')\n",
    "print(\"\\n\")\n",
    "print('2006 ', ped_info_ano.loc[2006, 'Contagem'], ' ou ', (ped_info_ano.loc[2006, 'Contagem']*100), '% do total')\n",
    "print('2019 ', ped_info_ano.loc[2019, 'Contagem'], ' ou ', (ped_info_ano.loc[2019, 'Contagem']*100), '% do total')\n",
    "print(\"\\n\")\n",
    "print('Variacao total e de ', ped_info_ano.loc[2019, 'Contagem'] - ped_info_ano.loc[2006, 'Contagem'], \\\n",
    "     ' ou ', (ped_info_ano.loc[2019, 'Contagem'] - ped_info_ano.loc[2006, 'Contagem'])*100, '% do total')"
   ]
  },
  {
   "cell_type": "code",
   "execution_count": 30,
   "metadata": {},
   "outputs": [
    {
     "data": {
      "text/plain": [
       "<matplotlib.axes._subplots.AxesSubplot at 0x1d681b7ce08>"
      ]
     },
     "execution_count": 30,
     "metadata": {},
     "output_type": "execute_result"
    },
    {
     "data": {
      "image/png": "[encoded data removed]",
      "text/plain": [
       "<Figure size 432x288 with 1 Axes>"
      ]
     },
     "metadata": {
      "needs_background": "light"
     },
     "output_type": "display_data"
    }
   ],
   "source": [
    "import seaborn as sns\n",
    "sns.scatterplot(reclamacao_ano.Contagem, ped_info_ano.Contagem)\n"
   ]
  },
  {
   "cell_type": "code",
   "execution_count": 31,
   "metadata": {},
   "outputs": [
    {
     "data": {
      "text/plain": [
       "-0.9996409123526779"
      ]
     },
     "execution_count": 31,
     "metadata": {},
     "output_type": "execute_result"
    }
   ],
   "source": [
    "import numpy as np\n",
    "r = np.corrcoef(reclamacao_ano.Contagem, ped_info_ano.Contagem)\n",
    "r[1,0]"
   ]
  },
  {
   "cell_type": "code",
   "execution_count": 32,
   "metadata": {},
   "outputs": [
    {
     "data": {
      "text/plain": [
       "-0.9931157621508678"
      ]
     },
     "execution_count": 32,
     "metadata": {},
     "output_type": "execute_result"
    }
   ],
   "source": [
    "r = np.corrcoef(reclamacao_ano.Contagem, tipos_ano_df[tipos_ano_df.Tipo == 'Denúncia'].Contagem)\n",
    "r[1,0]"
   ]
  },
  {
   "cell_type": "markdown",
   "metadata": {},
   "source": [
    "Analisando os tipos de solicitacoes, vemos que em 2006, o tipo \"Reclamacao\" representava 80% do total de solicitacoes e em 2019 passou a representar quase a totalidade das solicitacoes feitas, 98%.\n",
    "\n",
    "Essa analise foi feita apenas com numeros relativos, nao e possivel saber se o numero de reclamacoes subiu ou se os outros tipos cairam."
   ]
  },
  {
   "cell_type": "code",
   "execution_count": null,
   "metadata": {},
   "outputs": [],
   "source": []
  },
  {
   "cell_type": "code",
   "execution_count": null,
   "metadata": {},
   "outputs": [],
   "source": [
    "\n"
   ]
  },
  {
   "cell_type": "code",
   "execution_count": null,
   "metadata": {},
   "outputs": [],
   "source": []
  },
  {
   "cell_type": "code",
   "execution_count": null,
   "metadata": {},
   "outputs": [],
   "source": []
  }
 ],
 "metadata": {
  "kernelspec": {
   "display_name": "Python 3",
   "language": "python",
   "name": "python3"
  },
  "language_info": {
   "codemirror_mode": {
    "name": "ipython",
    "version": 3
   },
   "file_extension": ".py",
   "mimetype": "text/x-python",
   "name": "python",
   "nbconvert_exporter": "python",
   "pygments_lexer": "ipython3",
   "version": "3.7.4"
  }
 },
 "nbformat": 4,
 "nbformat_minor": 2
}
